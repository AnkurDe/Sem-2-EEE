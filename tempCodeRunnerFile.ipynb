# Use already loaded X, y1, y2 from previous cells
from sklearn.ensemble import ExtraTreesRegressor
from sklearn.metrics import mean_squared_error, r2_score

# Initialize and train ExtraTrees models
et_health = ExtraTreesRegressor(random_state=42).fit(X, y1)
et_life = ExtraTreesRegressor(random_state=42).fit(X, y2)

# Calculate training errors
errors = {
    "Health Index": {
        "MSE": mean_squared_error(y1, et_health.predict(X)),
        "R²": r2_score(y1, et_health.predict(X))
    },
    "Life Expectation": {
        "MSE": mean_squared_error(y2, et_life.predict(X)),
        "R²": r2_score(y2, et_life.predict(X))
    }
}

# Print results
print("ExtraTreesRegressor Training Errors:")
for target, metrics in errors.items():
    print(f"{target}: MSE = {metrics['MSE']}, R² = {metrics['R²']}")

# The scores for the model are too good which means the model is overfitting
# The model is not generalizing well to unseen data